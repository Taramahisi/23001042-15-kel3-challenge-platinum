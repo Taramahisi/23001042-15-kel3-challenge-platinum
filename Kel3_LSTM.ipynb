{
 "cells": [
  {
   "cell_type": "markdown",
   "metadata": {},
   "source": [
    "Import Data yang sudah dilakukan cleansing dari database."
   ]
  },
  {
   "cell_type": "code",
   "execution_count": 1,
   "metadata": {},
   "outputs": [],
   "source": [
    "# Connect to the database\n",
    "import pandas as pd\n",
    "import sqlite3\n",
    "conn = sqlite3.connect('clean_data_training.db')\n",
    "\n",
    "# Execute a query and read the results into a DataFrame\n",
    "query = \"SELECT text_clean, label FROM Data_training_clean\"\n",
    "df = pd.read_sql_query(query, conn)\n",
    "\n",
    "# Close the connection\n",
    "conn.close()"
   ]
  },
  {
   "cell_type": "code",
   "execution_count": 2,
   "metadata": {},
   "outputs": [
    {
     "data": {
      "text/html": [
       "<div>\n",
       "<style scoped>\n",
       "    .dataframe tbody tr th:only-of-type {\n",
       "        vertical-align: middle;\n",
       "    }\n",
       "\n",
       "    .dataframe tbody tr th {\n",
       "        vertical-align: top;\n",
       "    }\n",
       "\n",
       "    .dataframe thead th {\n",
       "        text-align: right;\n",
       "    }\n",
       "</style>\n",
       "<table border=\"1\" class=\"dataframe\">\n",
       "  <thead>\n",
       "    <tr style=\"text-align: right;\">\n",
       "      <th></th>\n",
       "      <th>text_clean</th>\n",
       "      <th>label</th>\n",
       "    </tr>\n",
       "  </thead>\n",
       "  <tbody>\n",
       "    <tr>\n",
       "      <th>0</th>\n",
       "      <td>mohon ulama lurus k212 mmbri hujjah ai diwlh s...</td>\n",
       "      <td>neutral</td>\n",
       "    </tr>\n",
       "    <tr>\n",
       "      <th>1</th>\n",
       "      <td>lokasi strategis jalan sumatra bandung nyaman ...</td>\n",
       "      <td>positive</td>\n",
       "    </tr>\n",
       "    <tr>\n",
       "      <th>2</th>\n",
       "      <td>betapa bahagia unboxing paket barang bagus tet...</td>\n",
       "      <td>positive</td>\n",
       "    </tr>\n",
       "    <tr>\n",
       "      <th>3</th>\n",
       "      <td>aduh mahasiswa sombong kasih kakak kuning ajar...</td>\n",
       "      <td>negative</td>\n",
       "    </tr>\n",
       "    <tr>\n",
       "      <th>4</th>\n",
       "      <td>makan agam harga makan food stall 10 kasir sua...</td>\n",
       "      <td>positive</td>\n",
       "    </tr>\n",
       "    <tr>\n",
       "      <th>...</th>\n",
       "      <td>...</td>\n",
       "      <td>...</td>\n",
       "    </tr>\n",
       "    <tr>\n",
       "      <th>10994</th>\n",
       "      <td>tidak kecewa</td>\n",
       "      <td>positive</td>\n",
       "    </tr>\n",
       "    <tr>\n",
       "      <th>10995</th>\n",
       "      <td>enak masakan kepiting senang pilih kepiting se...</td>\n",
       "      <td>positive</td>\n",
       "    </tr>\n",
       "    <tr>\n",
       "      <th>10996</th>\n",
       "      <td>hormat ai ai koalisi</td>\n",
       "      <td>neutral</td>\n",
       "    </tr>\n",
       "    <tr>\n",
       "      <th>10997</th>\n",
       "      <td>pagi pagi tol pasteur macet parah bikin jengkel</td>\n",
       "      <td>negative</td>\n",
       "    </tr>\n",
       "    <tr>\n",
       "      <th>10998</th>\n",
       "      <td>belanja yogyakarta riau junction pe kali lihat...</td>\n",
       "      <td>positive</td>\n",
       "    </tr>\n",
       "  </tbody>\n",
       "</table>\n",
       "<p>10999 rows × 2 columns</p>\n",
       "</div>"
      ],
      "text/plain": [
       "                                              text_clean     label\n",
       "0      mohon ulama lurus k212 mmbri hujjah ai diwlh s...   neutral\n",
       "1      lokasi strategis jalan sumatra bandung nyaman ...  positive\n",
       "2      betapa bahagia unboxing paket barang bagus tet...  positive\n",
       "3      aduh mahasiswa sombong kasih kakak kuning ajar...  negative\n",
       "4      makan agam harga makan food stall 10 kasir sua...  positive\n",
       "...                                                  ...       ...\n",
       "10994                                       tidak kecewa  positive\n",
       "10995  enak masakan kepiting senang pilih kepiting se...  positive\n",
       "10996                               hormat ai ai koalisi   neutral\n",
       "10997    pagi pagi tol pasteur macet parah bikin jengkel  negative\n",
       "10998  belanja yogyakarta riau junction pe kali lihat...  positive\n",
       "\n",
       "[10999 rows x 2 columns]"
      ]
     },
     "execution_count": 2,
     "metadata": {},
     "output_type": "execute_result"
    }
   ],
   "source": [
    "df"
   ]
  },
  {
   "cell_type": "markdown",
   "metadata": {},
   "source": [
    "Sortir data dan label berdasarkan sentimen"
   ]
  },
  {
   "cell_type": "code",
   "execution_count": 3,
   "metadata": {},
   "outputs": [],
   "source": [
    "neg = df.loc[df['label'] == 'negative'].text_clean.tolist()\n",
    "neu = df.loc[df['label'] == 'neutral'].text_clean.tolist()\n",
    "pos = df.loc[df['label'] == 'positive'].text_clean.tolist()\n",
    "\n",
    "neg_label = df.loc[df['label'] == 'negative'].label.tolist()\n",
    "neu_label = df.loc[df['label'] == 'neutral'].label.tolist()\n",
    "pos_label = df.loc[df['label'] == 'positive'].label.tolist()"
   ]
  },
  {
   "cell_type": "code",
   "execution_count": 4,
   "metadata": {},
   "outputs": [
    {
     "name": "stdout",
     "output_type": "stream",
     "text": [
      "Pos: 6415, Neu: 1148, Neg: 3436\n",
      "Total data: 10999\n"
     ]
    }
   ],
   "source": [
    "total_data = pos + neu + neg\n",
    "labels = pos_label + neu_label + neg_label\n",
    "\n",
    "print(\"Pos: %s, Neu: %s, Neg: %s\" % (len(pos), len(neu), len(neg)))\n",
    "print(\"Total data: %s\" % len(total_data))"
   ]
  },
  {
   "cell_type": "markdown",
   "metadata": {},
   "source": [
    "# **Feature Extraction**"
   ]
  },
  {
   "cell_type": "markdown",
   "metadata": {},
   "source": [
    "Setelah itu kita lakukan Feature Extraction menggunakan modul \"Tokenizer\" dan \"pad_sequences\" dari Tensorflow.\n",
    "\n",
    "Module Tokenizer memungkinkan untuk memvektorisasi korpus teks, dengan mengubah setiap teks menjadi urutan bilangan bulat (setiap bilangan bulat menjadi indeks token dalam kamus) atau menjadi vektor di mana koefisien untuk setiap token bisa biner, berdasarkan jumlah kata , berdasarkan tf-idf.\n",
    "\n",
    "Module pad_sequences memungkinkan mengubah list dari sequences menjadi array bentuk 2D."
   ]
  },
  {
   "cell_type": "code",
   "execution_count": 5,
   "metadata": {},
   "outputs": [
    {
     "name": "stdout",
     "output_type": "stream",
     "text": [
      "WARNING:tensorflow:From c:\\Users\\Asani\\Documents\\GitHub\\23001042-15-ACIA-project-gold\\env\\Lib\\site-packages\\keras\\src\\losses.py:2976: The name tf.losses.sparse_softmax_cross_entropy is deprecated. Please use tf.compat.v1.losses.sparse_softmax_cross_entropy instead.\n",
      "\n",
      "tokenizer_lstm.pickle has created!\n",
      "x_pad_sequences_lstm.pickle has created!\n"
     ]
    }
   ],
   "source": [
    "import pickle\n",
    "from tensorflow.keras.preprocessing.text import Tokenizer\n",
    "from tensorflow.keras.preprocessing.sequence import pad_sequences\n",
    "from collections import defaultdict\n",
    "\n",
    "max_features = 100000\n",
    "tokenizer_lstm = Tokenizer(num_words=max_features, split=' ', lower=True)\n",
    "tokenizer_lstm.fit_on_texts(total_data)\n",
    "with open('tokenizer_lstm.pickle', 'wb') as handle:\n",
    "    pickle.dump(tokenizer_lstm, handle, protocol=pickle.HIGHEST_PROTOCOL)\n",
    "    print(\"tokenizer_lstm.pickle has created!\")\n",
    "\n",
    "X = tokenizer_lstm.texts_to_sequences(total_data)\n",
    "\n",
    "vocab_size = len(tokenizer_lstm.word_index)\n",
    "maxlen = max(len(x) for x in X)\n",
    "\n",
    "X = pad_sequences(X)\n",
    "with open('x_pad_sequences_lstm.pickle', 'wb') as handle:\n",
    "    pickle.dump(X, handle, protocol=pickle.HIGHEST_PROTOCOL)\n",
    "    print(\"x_pad_sequences_lstm.pickle has created!\")"
   ]
  },
  {
   "cell_type": "code",
   "execution_count": 6,
   "metadata": {},
   "outputs": [
    {
     "name": "stdout",
     "output_type": "stream",
     "text": [
      "y_labels_lstm.pickle has created!\n"
     ]
    }
   ],
   "source": [
    "Y = pd.get_dummies(labels)\n",
    "Y = Y.values\n",
    "\n",
    "with open('y_labels_lstm.pickle', 'wb') as handle:\n",
    "    pickle.dump(Y, handle, protocol=pickle.HIGHEST_PROTOCOL)\n",
    "    print(\"y_labels_lstm.pickle has created!\")"
   ]
  },
  {
   "cell_type": "markdown",
   "metadata": {},
   "source": [
    "# **Prepare train & test datasets/Splitting Dataset**"
   ]
  },
  {
   "cell_type": "markdown",
   "metadata": {},
   "source": [
    "Split dataset menjadi 80% untuk train dan 20% untuk test."
   ]
  },
  {
   "cell_type": "code",
   "execution_count": 7,
   "metadata": {},
   "outputs": [],
   "source": [
    "from sklearn.model_selection import train_test_split\n",
    "\n",
    "file = open(\"x_pad_sequences_lstm.pickle\",'rb')\n",
    "X = pickle.load(file)\n",
    "file.close()\n",
    "\n",
    "file = open(\"y_labels_lstm.pickle\",'rb')\n",
    "Y = pickle.load(file)\n",
    "file.close()\n",
    "\n",
    "X_train, X_test, y_train, y_test = train_test_split(X, Y, test_size=0.2, random_state=1)"
   ]
  },
  {
   "cell_type": "markdown",
   "metadata": {},
   "source": [
    "# **Training**"
   ]
  },
  {
   "cell_type": "markdown",
   "metadata": {},
   "source": [
    "Jalankan training dengan metode LSTM. Arsitektur LSTM ini dibangun menggunakan framework Tensorflow."
   ]
  },
  {
   "cell_type": "code",
   "execution_count": 8,
   "metadata": {},
   "outputs": [],
   "source": [
    "import numpy as np\n",
    "from tensorflow.keras import layers\n",
    "from tensorflow.keras.models import Sequential\n",
    "from tensorflow.keras.layers import Dense, Embedding, LSTM, SpatialDropout1D, SimpleRNN, Activation\n",
    "from tensorflow.keras import optimizers\n",
    "from tensorflow.keras.callbacks import EarlyStopping, TensorBoard\n",
    "from tensorflow.keras.layers import Flatten\n",
    "from tensorflow.keras import backend as K"
   ]
  },
  {
   "cell_type": "markdown",
   "metadata": {},
   "source": [
    "Adapun arsitektur LSTM yang dibangun sebagai berikut:\n",
    "\n",
    "\n",
    "*   Input Layer: Data teks setelah dilakukan Feature Extraction, dikondisikan menjadi sebuah matrix berdimensi 100.\n",
    "*   Unit Layer: Pada bagian ini diterapkan unit/neuron sejumlah 64. Pada tahap ini pula fitur Dropout diterapkan guna meminimalisir overfitting.\n",
    "*   Fully-connected Layer: Setelah proses convolution, dikondisikan sebagai input untuk Multi-layer Perceptron terdiri dari 10 input dan 3 output. Pada tahap ini diimplementasikan pula aktivasi \"softmax\".\n",
    "\n",
    "Untuk mencegah overfitting, kita menerapkan EarlyStopping. Sehingga, meskipun epoch belum selesai, training sudah selesai."
   ]
  },
  {
   "cell_type": "code",
   "execution_count": 9,
   "metadata": {},
   "outputs": [
    {
     "name": "stdout",
     "output_type": "stream",
     "text": [
      "WARNING:tensorflow:From c:\\Users\\Asani\\Documents\\GitHub\\23001042-15-ACIA-project-gold\\env\\Lib\\site-packages\\keras\\src\\backend.py:873: The name tf.get_default_graph is deprecated. Please use tf.compat.v1.get_default_graph instead.\n",
      "\n",
      "WARNING:tensorflow:From c:\\Users\\Asani\\Documents\\GitHub\\23001042-15-ACIA-project-gold\\env\\Lib\\site-packages\\keras\\src\\optimizers\\__init__.py:309: The name tf.train.Optimizer is deprecated. Please use tf.compat.v1.train.Optimizer instead.\n",
      "\n",
      "Model: \"sequential\"\n",
      "_________________________________________________________________\n",
      " Layer (type)                Output Shape              Param #   \n",
      "=================================================================\n",
      " embedding (Embedding)       (None, 69, 100)           10000000  \n",
      "                                                                 \n",
      " lstm (LSTM)                 (None, 64)                42240     \n",
      "                                                                 \n",
      " dense (Dense)               (None, 3)                 195       \n",
      "                                                                 \n",
      "=================================================================\n",
      "Total params: 10042435 (38.31 MB)\n",
      "Trainable params: 10042435 (38.31 MB)\n",
      "Non-trainable params: 0 (0.00 Byte)\n",
      "_________________________________________________________________\n",
      "None\n",
      "Epoch 1/10\n",
      "WARNING:tensorflow:From c:\\Users\\Asani\\Documents\\GitHub\\23001042-15-ACIA-project-gold\\env\\Lib\\site-packages\\keras\\src\\utils\\tf_utils.py:492: The name tf.ragged.RaggedTensorValue is deprecated. Please use tf.compat.v1.ragged.RaggedTensorValue instead.\n",
      "\n",
      "WARNING:tensorflow:From c:\\Users\\Asani\\Documents\\GitHub\\23001042-15-ACIA-project-gold\\env\\Lib\\site-packages\\keras\\src\\engine\\base_layer_utils.py:384: The name tf.executing_eagerly_outside_functions is deprecated. Please use tf.compat.v1.executing_eagerly_outside_functions instead.\n",
      "\n",
      "880/880 [==============================] - 104s 108ms/step - loss: 0.4823 - accuracy: 0.8052 - val_loss: 0.3525 - val_accuracy: 0.8673\n",
      "Epoch 2/10\n",
      "880/880 [==============================] - 91s 104ms/step - loss: 0.2448 - accuracy: 0.9107 - val_loss: 0.3620 - val_accuracy: 0.8641\n",
      "Epoch 2: early stopping\n"
     ]
    }
   ],
   "source": [
    "embed_dim = 100\n",
    "units = 64\n",
    "\n",
    "model_lstm = Sequential()\n",
    "model_lstm.add(Embedding(max_features, embed_dim, input_length=X.shape[1]))\n",
    "model_lstm.add(LSTM(units, dropout=0.2))\n",
    "model_lstm.add(Dense(3,activation='softmax'))\n",
    "model_lstm.compile(loss = 'binary_crossentropy', optimizer='adam',metrics = ['accuracy'])\n",
    "print(model_lstm.summary())\n",
    "\n",
    "adam = optimizers.Adam(learning_rate = 0.001)\n",
    "model_lstm.compile(loss = 'categorical_crossentropy', optimizer = adam, metrics = ['accuracy'])\n",
    "\n",
    "es = EarlyStopping(monitor='val_loss', mode='min', verbose=1)\n",
    "history = model_lstm.fit(X_train, y_train, epochs=10, batch_size=10, validation_data=(X_test, y_test), verbose=1, callbacks=[es])"
   ]
  },
  {
   "cell_type": "markdown",
   "metadata": {},
   "source": [
    "# Evaluation"
   ]
  },
  {
   "cell_type": "markdown",
   "metadata": {},
   "source": [
    "## Confussion Matrix, Accuracy, F1, Recall, Precision"
   ]
  },
  {
   "cell_type": "markdown",
   "metadata": {},
   "source": [
    "Langkah selanjutnya adalah \"Evaluation\". Module \"classification_report\" dari Sklearn merupakan salah satu modul untuk melakukan \"Evaluation\". Pada tahap evaluasi ini kita akan menerapkan metode evaluasi Accuracy, Precision, Recall dan F1-Score."
   ]
  },
  {
   "cell_type": "code",
   "execution_count": 10,
   "metadata": {},
   "outputs": [
    {
     "name": "stdout",
     "output_type": "stream",
     "text": [
      "69/69 [==============================] - 4s 32ms/step\n",
      "Testing selesai\n",
      "              precision    recall  f1-score   support\n",
      "\n",
      "           0       0.83      0.82      0.82       685\n",
      "           1       0.76      0.74      0.75       233\n",
      "           2       0.90      0.91      0.91      1282\n",
      "\n",
      "    accuracy                           0.86      2200\n",
      "   macro avg       0.83      0.82      0.83      2200\n",
      "weighted avg       0.86      0.86      0.86      2200\n",
      "\n"
     ]
    }
   ],
   "source": [
    "from sklearn import metrics\n",
    "\n",
    "predictions = model_lstm.predict(X_test)\n",
    "y_pred = predictions\n",
    "matrix_test = metrics.classification_report(y_test.argmax(axis=1), y_pred.argmax(axis=1))\n",
    "print(\"Testing selesai\")\n",
    "print(matrix_test)"
   ]
  },
  {
   "cell_type": "markdown",
   "metadata": {},
   "source": [
    "Hasilnya nilai F1 Score ada pada angka 0.81 untuk Negative, 0.76 untuk Neutral, dan 0.90 untuk Positive. Hasil ini bisa dikatakan cukup bagus untuk sebuah model."
   ]
  },
  {
   "cell_type": "markdown",
   "metadata": {},
   "source": [
    "## Cross Validation"
   ]
  },
  {
   "cell_type": "markdown",
   "metadata": {},
   "source": [
    "Mekanisme evaluasi selanjutnya menggunakan \"Cross Validation\", yaitu merotasi porsi testing dari dataset agar bisa melihat model yang sudah kita buat stabil ketika dihadapkan pada data yang berbeda."
   ]
  },
  {
   "cell_type": "code",
   "execution_count": 11,
   "metadata": {},
   "outputs": [
    {
     "name": "stdout",
     "output_type": "stream",
     "text": [
      "69/69 [==============================] - 2s 18ms/step\n",
      "Training ke- 1\n",
      "              precision    recall  f1-score   support\n",
      "\n",
      "           0       0.83      0.77      0.80       685\n",
      "           1       0.79      0.70      0.75       233\n",
      "           2       0.88      0.93      0.90      1282\n",
      "\n",
      "    accuracy                           0.85      2200\n",
      "   macro avg       0.83      0.80      0.81      2200\n",
      "weighted avg       0.85      0.85      0.85      2200\n",
      "\n",
      "======================================================\n",
      "69/69 [==============================] - 3s 20ms/step\n",
      "Training ke- 2\n",
      "              precision    recall  f1-score   support\n",
      "\n",
      "           0       0.83      0.78      0.80       685\n",
      "           1       0.81      0.65      0.72       233\n",
      "           2       0.87      0.93      0.90      1282\n",
      "\n",
      "    accuracy                           0.85      2200\n",
      "   macro avg       0.84      0.79      0.81      2200\n",
      "weighted avg       0.85      0.85      0.85      2200\n",
      "\n",
      "======================================================\n",
      "69/69 [==============================] - 3s 24ms/step\n",
      "Training ke- 3\n",
      "              precision    recall  f1-score   support\n",
      "\n",
      "           0       0.81      0.81      0.81       685\n",
      "           1       0.72      0.76      0.73       233\n",
      "           2       0.91      0.90      0.90      1282\n",
      "\n",
      "    accuracy                           0.86      2200\n",
      "   macro avg       0.81      0.82      0.82      2200\n",
      "weighted avg       0.86      0.86      0.86      2200\n",
      "\n",
      "======================================================\n",
      "69/69 [==============================] - 4s 24ms/step\n",
      "Training ke- 4\n",
      "              precision    recall  f1-score   support\n",
      "\n",
      "           0       0.82      0.78      0.80       685\n",
      "           1       0.79      0.69      0.74       233\n",
      "           2       0.88      0.92      0.90      1282\n",
      "\n",
      "    accuracy                           0.85      2200\n",
      "   macro avg       0.83      0.80      0.81      2200\n",
      "weighted avg       0.85      0.85      0.85      2200\n",
      "\n",
      "======================================================\n",
      "69/69 [==============================] - 3s 27ms/step\n",
      "Training ke- 5\n",
      "              precision    recall  f1-score   support\n",
      "\n",
      "           0       0.79      0.82      0.81       685\n",
      "           1       0.76      0.72      0.74       233\n",
      "           2       0.91      0.89      0.90      1282\n",
      "\n",
      "    accuracy                           0.85      2200\n",
      "   macro avg       0.82      0.81      0.82      2200\n",
      "weighted avg       0.85      0.85      0.85      2200\n",
      "\n",
      "======================================================\n",
      "\n",
      "\n",
      "\n",
      "Rata-rata Accuracy:  0.8547272727272727\n"
     ]
    }
   ],
   "source": [
    "# Untuk lebih menyakinkan lagi, kita juga bisa melakukan \"Cross Validation\"\n",
    "import numpy as np\n",
    "from sklearn.metrics import classification_report\n",
    "from sklearn.metrics import accuracy_score\n",
    "from sklearn.model_selection import KFold\n",
    "\n",
    "kf = KFold(n_splits=5,random_state=42,shuffle=True)\n",
    "\n",
    "accuracies = []\n",
    "\n",
    "y = Y\n",
    "\n",
    "embed_dim = 100\n",
    "units = 64\n",
    "\n",
    "for iteration, data in enumerate(kf.split(X), start=1):\n",
    "\n",
    "    data_train   = X[data[0]]\n",
    "    target_train = y[data[0]]\n",
    "\n",
    "    data_test    = X[data[1]]\n",
    "    target_test  = y[data[1]]\n",
    "\n",
    "\n",
    "    model = Sequential()\n",
    "    model.add(Embedding(max_features, embed_dim, input_length=X.shape[1]))\n",
    "    model.add(LSTM(units, dropout=0.2))\n",
    "    model.add(Dense(3,activation='softmax'))\n",
    "    # model.compile(loss = 'binary_crossentropy', optimizer='adam',metrics = ['accuracy'])\n",
    "\n",
    "    adam = optimizers.Adam(learning_rate = 0.001)\n",
    "    model.compile(loss = 'categorical_crossentropy', optimizer = adam, metrics = ['accuracy'])\n",
    "\n",
    "    es = EarlyStopping(monitor='val_loss', mode='min', verbose=0)\n",
    "    history = model.fit(X_train, y_train, epochs=10, batch_size=10, validation_data=(X_test, y_test), verbose=0, callbacks=[es])\n",
    "\n",
    "    predictions = model.predict(X_test)\n",
    "    y_pred = predictions\n",
    "\n",
    "    # for the current fold only\n",
    "    accuracy = accuracy_score(y_test.argmax(axis=1), y_pred.argmax(axis=1))\n",
    "\n",
    "    print(\"Training ke-\", iteration)\n",
    "    print(classification_report(y_test.argmax(axis=1), y_pred.argmax(axis=1)))\n",
    "    print(\"======================================================\")\n",
    "\n",
    "    accuracies.append(accuracy)\n",
    "\n",
    "# this is the average accuracy over all folds\n",
    "average_accuracy = np.mean(accuracies)\n",
    "\n",
    "print()\n",
    "print()\n",
    "print()\n",
    "print(\"Rata-rata Accuracy: \", average_accuracy)"
   ]
  },
  {
   "cell_type": "markdown",
   "metadata": {},
   "source": [
    "Hasilnya nilai rata-rata accuracy pada angka 0.86. Ini menunjukkan model kita cukup stabil pada angka 0.86."
   ]
  },
  {
   "cell_type": "markdown",
   "metadata": {},
   "source": [
    "## Visualization"
   ]
  },
  {
   "cell_type": "markdown",
   "metadata": {},
   "source": [
    "Mekanisme evaluasi selanjutnya menggunakan \"Visualization\", yaitu mengecek performa training dari arah visualisasinya. Acuan apakah visualisasi bagus atau tidak \"Good Fit\", sebagai berikut:"
   ]
  },
  {
   "cell_type": "markdown",
   "metadata": {},
   "source": [
    "**Overfitting**\n",
    "\n",
    "![Overfitting.webp](data:image/webp;base64,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)"
   ]
  },
  {
   "cell_type": "markdown",
   "metadata": {},
   "source": [
    "**Underfitting**\n",
    "![underfitting-1.webp](data:image/webp;base64,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)\n",
    "\n",
    "![underfitting-2.webp](data:image/webp;base64,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)"
   ]
  },
  {
   "cell_type": "markdown",
   "metadata": {},
   "source": [
    "**Good Fit**\n",
    "\n",
    "![fitting.webp](data:image/webp;base64,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)"
   ]
  },
  {
   "cell_type": "code",
   "execution_count": 12,
   "metadata": {},
   "outputs": [
    {
     "data": {
      "image/png": "[encoded data removed]",
      "text/plain": [
       "<Figure size 1200x500 with 2 Axes>"
      ]
     },
     "metadata": {},
     "output_type": "display_data"
    }
   ],
   "source": [
    "# history.history\n",
    "import matplotlib.pyplot as plt\n",
    "plt.style.use('ggplot')\n",
    "\n",
    "def plot_history(history):\n",
    "    acc = history.history['accuracy']\n",
    "    val_acc = history.history['val_accuracy']\n",
    "    loss = history.history['loss']\n",
    "    val_loss = history.history['val_loss']\n",
    "    x = range(1, len(acc) + 1)\n",
    "\n",
    "    plt.figure(figsize=(12, 5))\n",
    "    plt.subplot(1, 2, 1)\n",
    "    plt.plot(x, acc, 'b', label='Training acc')\n",
    "    plt.plot(x, val_acc, 'r', label='Validation acc')\n",
    "    plt.title('Training and validation accuracy')\n",
    "    plt.legend()\n",
    "    plt.subplot(1, 2, 2)\n",
    "    plt.plot(x, loss, 'b', label='Training loss')\n",
    "    plt.plot(x, val_loss, 'r', label='Validation loss')\n",
    "    plt.title('Training and validation loss')\n",
    "    plt.legend()\n",
    "\n",
    "%matplotlib inline\n",
    "plot_history(history)"
   ]
  },
  {
   "cell_type": "markdown",
   "metadata": {},
   "source": [
    "Hasilnya jika kita melihat visualisasinya model yang kita kembangkan tergolong Underfitting. Disinyalir karena:\n",
    "\n",
    "\n",
    "*   Data training terlalu sedikit\n",
    "*   Proses training berhenti terlalu cepat. Mungkin saja penerapan EarlyStopping untuk kasus kita tidak terlalu tepat\n"
   ]
  },
  {
   "cell_type": "code",
   "execution_count": 13,
   "metadata": {},
   "outputs": [
    {
     "name": "stderr",
     "output_type": "stream",
     "text": [
      "c:\\Users\\Asani\\Documents\\GitHub\\23001042-15-ACIA-project-gold\\env\\Lib\\site-packages\\keras\\src\\engine\\training.py:3103: UserWarning: You are saving your model as an HDF5 file via `model.save()`. This file format is considered legacy. We recommend using instead the native Keras format, e.g. `model.save('my_model.keras')`.\n",
      "  saving_api.save_model(\n"
     ]
    },
    {
     "name": "stdout",
     "output_type": "stream",
     "text": [
      "Model has created!\n"
     ]
    }
   ],
   "source": [
    "model.save('model_lstm.h5')\n",
    "print(\"Model has created!\")"
   ]
  },
  {
   "cell_type": "markdown",
   "metadata": {},
   "source": [
    "Cleansing"
   ]
  },
  {
   "cell_type": "code",
   "execution_count": 14,
   "metadata": {},
   "outputs": [],
   "source": [
    "import re \n",
    "import csv\n",
    "# delete words/char\n",
    "def remove_unnecessary_char(text):\n",
    "    text = re.sub('\\n',' ',text) # Remove every '\\n'\n",
    "    text = re.sub('\"rt\"',' ',text) # Remove every reTweet symbol\n",
    "    text = re.sub('user',' ',text) # Remove every username\n",
    "    text = text.strip() #menghapus spasi di awal dan akhir\n",
    "    text = re.sub(r'\\n', ' ', text, flags=re.IGNORECASE)\n",
    "    text = re.sub('((www\\.[^\\s]+)|(https?://[^\\s]+)|(http?://[^\\s]+))',' ',text)\n",
    "    text = re.sub(r'(.)\\1\\1+', r'\\1', text) #menghapus karakter berulang\n",
    "    text = re.sub('[^0-9a-zA-Z]+', ' ', text) #menghapus karakter non-alpanumerik\n",
    "    text = re.sub(r'[øùºðµ¹ª³]', '', text, flags=re.IGNORECASE)\n",
    "    text = re.sub(r'â', 'a', text, flags=re.IGNORECASE)\n",
    "    text = re.sub(r'\\s+', ' ', text).strip() #menghapus spasi berlebih dan mengganti dengan satu spasi\n",
    "    text = re.sub(r'^\\s+$', '', text) #menghapus seluruh kalimat yg hanya berisi spasi\n",
    "    text = re.sub(r'https\\S+|[^a-zA-Z0-9]', ' ', text) # remove emoticon \n",
    "    return text"
   ]
  },
  {
   "cell_type": "code",
   "execution_count": 15,
   "metadata": {},
   "outputs": [],
   "source": [
    "# Reduce words that start with /x\n",
    "def remove_words_starting_with_x(text1):\n",
    "    # Define a pattern to match words starting with \\x\n",
    "    pattern = re.compile(r'\\b\\\\x\\w*\\b')\n",
    "    \n",
    "    # Replace the matched words with an empty string\n",
    "    text = pattern.sub('', text1)\n",
    "    \n",
    "    return text"
   ]
  },
  {
   "cell_type": "code",
   "execution_count": 16,
   "metadata": {},
   "outputs": [],
   "source": [
    "# func. kamus alay :\n",
    "def replace_kamusalay(text1):\n",
    "    # REPLACE TEXT\n",
    "    replace_words = {}\n",
    "    with open('Data/Data klasifikasi/new_kamusalay.csv', 'r') as csv_file:\n",
    "        reader = csv.reader(csv_file)\n",
    "        for row in reader:\n",
    "            replace_words[row[0]] = row[1]\n",
    "\n",
    "    # Replace alay text \n",
    "    processed_text = text1  # Define processed_text before the loop\n",
    "    for word, replacement in replace_words.items():\n",
    "        processed_text = re.sub(r'\\b' + re.escape(word) + r'\\b', replacement, processed_text)\n",
    "\n",
    "    return processed_text"
   ]
  },
  {
   "cell_type": "code",
   "execution_count": 17,
   "metadata": {},
   "outputs": [],
   "source": [
    "# Stopwords removal and Stemming words  \n",
    "import nltk\n",
    "from nltk.corpus import stopwords\n",
    "from nltk.tokenize import word_tokenize\n",
    "# import Sastrawi package\n",
    "from Sastrawi.Stemmer.StemmerFactory import StemmerFactory\n",
    "\n",
    "# create stemmer\n",
    "factory = StemmerFactory()\n",
    "stemmer = factory.create_stemmer()\n",
    "\n",
    "def stopwordsremoval_and_stemming(text):\n",
    "\n",
    "     # Tokenize text\n",
    "    freq_tokens = word_tokenize(text.lower())  # Convert text to lowercase for consistent comparison\n",
    "\n",
    "    # Get Indonesian and English stopwords\n",
    "    list_stopwords_id = list(set(stopwords.words('indonesian')))  # Convert set to list\n",
    "    list_stopwords_en = list(set(stopwords.words('english')))     # Convert set to list\n",
    "\n",
    "    # Extend the list with additional stopwords\n",
    "    additional_stopwords = ['ya', 'yg', 'ga', 'yuk', 'dah', 'nya']\n",
    "    list_stopwords_id.extend(additional_stopwords)\n",
    "\n",
    "    # Combine Indonesian and English stopwords\n",
    "    list_stopwords = list_stopwords_id + list_stopwords_en\n",
    "\n",
    "    # Specify words to retain\n",
    "    words_to_retain = ['tidak']  # Add more words as needed\n",
    "\n",
    "    # Remove stopwords from the tokenized text, except words to retain\n",
    "    tokens_without_stopword = [word for word in freq_tokens if word not in list_stopwords or word in words_to_retain]\n",
    "\n",
    "    # STemming Indonesian only \n",
    "    stemmed_tokens = [stemmer.stem(token) for token in tokens_without_stopword]\n",
    "\n",
    "    # Reconstruct the text without stopwords\n",
    "    text_without_stopwords = ' '.join(stemmed_tokens)\n",
    "\n",
    "    # print(text_without_stopwords)\n",
    "    return text_without_stopwords"
   ]
  },
  {
   "cell_type": "code",
   "execution_count": 18,
   "metadata": {},
   "outputs": [],
   "source": [
    "# ALL CLEANSING IN ONE FUNCTION \n",
    "# CLEANSING1 for model prediction \n",
    "\n",
    "def cleansing_model (data_input):\n",
    "\n",
    "    text1 = data_input.lower()\n",
    "    text1 = remove_unnecessary_char(text1)\n",
    "    text1 = remove_words_starting_with_x(text1)\n",
    "    text1 = replace_kamusalay(text1)\n",
    "    text1 = stopwordsremoval_and_stemming(text1)\n",
    "\n",
    "    return text1"
   ]
  },
  {
   "cell_type": "code",
   "execution_count": 19,
   "metadata": {},
   "outputs": [],
   "source": [
    "df=pd.read_csv('Data/Data Klasifikasi/abusive.csv')\n",
    "\n",
    "bannedWord = df[\"ABUSIVE\"].values.tolist()\n",
    "\n",
    "def RemoveBannedWords(toPrint,database):\n",
    "    statement = toPrint\n",
    "    database_1 = sorted(list(database), key=len)\n",
    "    pattern = re.compile(r\"\\b(\" + \"|\".join(database_1) + \")\\\\W\", re.I)\n",
    "    return pattern.sub(\"\", toPrint + ' ')[:-1] #added because it skipped last word"
   ]
  },
  {
   "cell_type": "code",
   "execution_count": 20,
   "metadata": {},
   "outputs": [],
   "source": [
    "# Load tokenizer from tokenizer.pickle\n",
    "with open('tokenizer_lstm.pickle', 'rb') as handle:\n",
    "    tokenizer_lstm = pickle.load(handle)\n",
    "\n",
    "# Load X from x_pad_sequences.pickle\n",
    "with open('x_pad_sequences_lstm.pickle', 'rb') as handle:\n",
    "    X = pickle.load(handle)"
   ]
  },
  {
   "cell_type": "code",
   "execution_count": 21,
   "metadata": {},
   "outputs": [
    {
     "name": "stdout",
     "output_type": "stream",
     "text": [
      "1/1 [==============================] - 2s 2s/step\n",
      "Input Text:  \n",
      "bodoh sekali\n",
      "\n",
      "Sentiment:  negative\n",
      "Clean Text:  sekali\n"
     ]
    }
   ],
   "source": [
    "import re\n",
    "from keras.models import load_model\n",
    "\n",
    "# Rasa syukur, cukup.\n",
    "input_text = \"\"\"\n",
    "bodoh sekali\n",
    "\"\"\"\n",
    "\n",
    "def cleansing_abbusive_alay(sent):\n",
    "    # Mengubah kata menjadi huruf kecil semua dengan menggunakan fungsi lower()\n",
    "    string = sent.lower()\n",
    "    string = remove_unnecessary_char(string)\n",
    "    string = replace_kamusalay(string)\n",
    "    string = RemoveBannedWords(string,bannedWord)\n",
    "    return string\n",
    "\n",
    "sentiment = ['negative', 'neutral', 'positive']\n",
    "\n",
    "text = [cleansing_model(input_text)]\n",
    "predicted = tokenizer_lstm.texts_to_sequences(text)\n",
    "guess = pad_sequences(predicted, maxlen=X.shape[1])\n",
    "\n",
    "model = load_model('model_lstm.h5')\n",
    "prediction = model.predict(guess)\n",
    "polarity = np.argmax(prediction[0])\n",
    "\n",
    "print(\"Input Text: \",input_text)\n",
    "print(\"Sentiment: \",sentiment[polarity])\n",
    "print(\"Clean Text: \",cleansing_abbusive_alay(input_text))\n",
    "# print(\"Text: \",text[0])"
   ]
  }
 ],
 "metadata": {
  "kernelspec": {
   "display_name": "env",
   "language": "python",
   "name": "python3"
  },
  "language_info": {
   "codemirror_mode": {
    "name": "ipython",
    "version": 3
   },
   "file_extension": ".py",
   "mimetype": "text/x-python",
   "name": "python",
   "nbconvert_exporter": "python",
   "pygments_lexer": "ipython3",
   "version": "3.11.4"
  }
 },
 "nbformat": 4,
 "nbformat_minor": 2
}
